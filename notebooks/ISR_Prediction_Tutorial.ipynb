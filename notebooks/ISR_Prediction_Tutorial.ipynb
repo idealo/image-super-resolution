{
 "cells": [
  {
   "cell_type": "markdown",
   "metadata": {},
   "source": [
    "[![Google Colab](https://colab.research.google.com/assets/colab-badge.svg)](https://colab.research.google.com/github/idealo/image-super-resolution/blob/master/notebooks/ISR_Prediction_Tutorial.ipynb)"
   ]
  },
  {
   "cell_type": "markdown",
   "metadata": {
    "colab_type": "text",
    "id": "QJ4sSTzDWAao"
   },
   "source": [
    "# Install ISR"
   ]
  },
  {
   "cell_type": "code",
   "execution_count": null,
   "metadata": {
    "colab": {},
    "colab_type": "code",
    "id": "KCd2ZuS4V6Z0"
   },
   "outputs": [],
   "source": [
    "!pip uninstall ISR"
   ]
  },
  {
   "cell_type": "markdown",
   "metadata": {
    "colab_type": "text",
    "id": "1kAgIRRqU1fZ"
   },
   "source": [
    "# Predict"
   ]
  },
  {
   "cell_type": "markdown",
   "metadata": {
    "colab_type": "text",
    "id": "ey0ldzgcU5Uy"
   },
   "source": [
    "## Get the pre-trained weights and data"
   ]
  },
  {
   "cell_type": "markdown",
   "metadata": {
    "colab_type": "text",
    "id": "Y1DzojlY-eNc"
   },
   "source": [
    "(for more options on getting you data on Colab notebooks visit https://colab.research.google.com/notebooks/io.ipynb)"
   ]
  },
  {
   "cell_type": "markdown",
   "metadata": {
    "colab_type": "text",
    "id": "e6nKUaP4LAqZ"
   },
   "source": [
    "Get the weights with\n",
    "\n"
   ]
  },
  {
   "cell_type": "code",
   "execution_count": null,
   "metadata": {
    "colab": {},
    "colab_type": "code",
    "id": "dsB9otUypIXC"
   },
   "outputs": [],
   "source": [
    "!wget https://media.githubusercontent.com/media/idealo/image-super-resolution/master/weights/sample_weights/rdn-C6-D20-G64-G064-x2/ArtefactCancelling/rdn-C6-D20-G64-G064-x2_ArtefactCancelling_epoch219.hdf5\n",
    "!wget https://media.githubusercontent.com/media/idealo/image-super-resolution/master/weights/sample_weights/rdn-C6-D20-G64-G064-x2/PSNR-driven/rdn-C6-D20-G64-G064-x2_PSNR_epoch086.hdf5\n",
    "!wget https://media.githubusercontent.com/media/idealo/image-super-resolution/master/weights/sample_weights/rdn-C3-D10-G64-G064-x2/PSNR-driven/rdn-C3-D10-G64-G064-x2_PSNR_epoch134.hdf5\n",
    "!wget https://media.githubusercontent.com/media/idealo/image-super-resolution/master/weights/sample_weights/rrdn-C4-D3-G32-G032-T10-x4/Perceptual/rrdn-C4-D3-G32-G032-T10-x4_epoch299.hdf5\n",
    "!mkdir weights\n",
    "!mv *.hdf5 weights"
   ]
  },
  {
   "cell_type": "markdown",
   "metadata": {
    "colab_type": "text",
    "id": "Br77QZiaLHNq"
   },
   "source": [
    "Download a sample image, in this case"
   ]
  },
  {
   "cell_type": "code",
   "execution_count": null,
   "metadata": {
    "colab": {},
    "colab_type": "code",
    "id": "MpMzDneKLGOt"
   },
   "outputs": [],
   "source": [
    "!wget http://images.math.cnrs.fr/IMG/png/section8-image.png\n",
    "!mkdir -p data/input/test_images\n",
    "!mv *.png data/input/test_images"
   ]
  },
  {
   "cell_type": "markdown",
   "metadata": {
    "colab_type": "text",
    "id": "IZG6dSS-tXSM"
   },
   "source": [
    "Load the image with PIL"
   ]
  },
  {
   "cell_type": "code",
   "execution_count": null,
   "metadata": {
    "colab": {
     "base_uri": "https://localhost:8080/",
     "height": 273
    },
    "colab_type": "code",
    "id": "hCZfkvojYwbY",
    "outputId": "1525ca37-cc60-4d87-c7b5-be427232f0c9"
   },
   "outputs": [],
   "source": [
    "import numpy as np,os,sys\n",
    "from PIL import Image\n",
    "#dir = os.path.join(os.path.dirname(os.getcwd()),os.path.dirname('data\\\\input\\\\test_images\\\\'),'section8-image.png')\n",
    "dir = os.path.join(os.path.dirname(os.getcwd()),os.path.dirname('data\\\\input\\\\test_images\\\\'),'Shematics IO board.png')\n",
    "\n",
    "print(dir)\n",
    "img = Image.open(dir)\n",
    "img"
   ]
  },
  {
   "cell_type": "markdown",
   "metadata": {
    "colab_type": "text",
    "id": "OffTQBZHxnu9"
   },
   "source": [
    "## Get predictions"
   ]
  },
  {
   "cell_type": "markdown",
   "metadata": {
    "colab_type": "text",
    "id": "OiP5N0iGVJZ3"
   },
   "source": [
    "### Create the model and run prediction\n",
    "Create the RDN model, for which we provide pre-trained weights, and load them\n",
    "\n",
    "Choose amongst the available model weights, compare the output if you wish.\n",
    "\n"
   ]
  },
  {
   "cell_type": "code",
   "execution_count": null,
   "metadata": {},
   "outputs": [],
   "source": [
    "#os.chdir(os.path.join('D:\\\\','Git Apps\\\\image-super-resolution'))\n",
    "print(os.getcwd())\n",
    "sys.path.append(os.path.join('D:\\\\','Git Apps\\\\image-super-resolution'))\n",
    "print(sys.path)"
   ]
  },
  {
   "cell_type": "code",
   "execution_count": null,
   "metadata": {
    "colab": {
     "base_uri": "https://localhost:8080/",
     "height": 34
    },
    "colab_type": "code",
    "id": "GF4egbZW2Yx1",
    "outputId": "39c5c2bc-9a0e-4eb4-ea55-120984c2fb59"
   },
   "outputs": [],
   "source": [
    "from ISR.models import RRDN,RDN"
   ]
  },
  {
   "cell_type": "code",
   "execution_count": null,
   "metadata": {},
   "outputs": [],
   "source": [
    "sess = RRDN.tf.Session()\n",
    "print(sess)"
   ]
  },
  {
   "cell_type": "markdown",
   "metadata": {},
   "source": [
    "#### RRDN GANS model"
   ]
  },
  {
   "cell_type": "code",
   "execution_count": null,
   "metadata": {},
   "outputs": [],
   "source": [
    "rrdn = RRDN(arch_params={'C': 4, 'D':3, 'G':32, 'G0':32, 'x':4, 'T': 10})\n",
    "dir = os.path.join(os.path.dirname(os.getcwd()),\\\n",
    "                   'weights','sample_weights','rrdn-C4-D3-G32-G032-T10-x4-GANS','rrdn-C4-D3-G32-G032-T10-x4_epoch299.hdf5')\n",
    "print(dir)\n",
    "rrdn.model.load_weights(dir)\n"
   ]
  },
  {
   "cell_type": "code",
   "execution_count": null,
   "metadata": {},
   "outputs": [],
   "source": [
    "print(img.info, img.size)\n",
    "a4im = Image.new('RGB',\n",
    "                 (1376, 1376),   # 1376 pixel\n",
    "                 (255, 255, 255))  # White\n",
    "a4im.paste(img, img.getbbox())\n",
    "print(a4im.info,a4im.size)"
   ]
  },
  {
   "cell_type": "code",
   "execution_count": null,
   "metadata": {},
   "outputs": [],
   "source": [
    "sr_img = rrdn.predict(np.array(a4im),by_patch_of_size=0,padding_size=2,batch_size=2)\n",
    "Image.fromarray(sr_img)"
   ]
  },
  {
   "cell_type": "markdown",
   "metadata": {
    "colab_type": "text",
    "id": "nKBs7oAUv6J9"
   },
   "source": [
    "#### Large RDN model"
   ]
  },
  {
   "cell_type": "code",
   "execution_count": null,
   "metadata": {
    "colab": {
     "base_uri": "https://localhost:8080/",
     "height": 88
    },
    "colab_type": "code",
    "id": "b38Ceq0Xv6J4",
    "outputId": "8e04f50b-c815-478a-d6df-fbe08259fdb6"
   },
   "outputs": [],
   "source": [
    "rdn = RDN(arch_params={'C': 6, 'D':20, 'G':64, 'G0':64, 'x':2})\n",
    "rdn.model.load_weights('weights/rdn-C6-D20-G64-G064-x2_PSNR_epoch086.hdf5')"
   ]
  },
  {
   "cell_type": "markdown",
   "metadata": {
    "colab_type": "text",
    "id": "D1G-lVIgv6Jz"
   },
   "source": [
    "#### Small RDN model"
   ]
  },
  {
   "cell_type": "code",
   "execution_count": null,
   "metadata": {
    "colab": {},
    "colab_type": "code",
    "id": "IrvptFrDv6Jw"
   },
   "outputs": [],
   "source": [
    "rdn = RDN(arch_params={'C': 3, 'D':10, 'G':64, 'G0':64, 'x':2})\n",
    "rdn.model.load_weights('weights/rdn-C3-D10-G64-G064-x2_PSNR_epoch134.hdf5')"
   ]
  },
  {
   "cell_type": "markdown",
   "metadata": {
    "colab_type": "text",
    "id": "Sp00f9EYv6Jv"
   },
   "source": [
    "#### Large RDN noise cancelling, detail enchancing model"
   ]
  },
  {
   "cell_type": "code",
   "execution_count": null,
   "metadata": {
    "colab": {},
    "colab_type": "code",
    "id": "eOoRjjDRv6Jr"
   },
   "outputs": [],
   "source": [
    "rdn = RDN(arch_params={'C': 6, 'D':20, 'G':64, 'G0':64, 'x':2})\n",
    "rdn.model.load_weights('weights/rdn-C6-D20-G64-G064-x2_ArtefactCancelling_epoch219.hdf5')"
   ]
  },
  {
   "cell_type": "markdown",
   "metadata": {
    "colab_type": "text",
    "id": "XS6YXcvau-VU"
   },
   "source": [
    "#### Run prediction"
   ]
  },
  {
   "cell_type": "code",
   "execution_count": null,
   "metadata": {
    "colab": {
     "base_uri": "https://localhost:8080/",
     "height": 529
    },
    "colab_type": "code",
    "id": "OXepKvnn1X_K",
    "outputId": "14ecd31b-9b03-4abf-c3a4-4966691440c6"
   },
   "outputs": [],
   "source": [
    "sr_img = rdn.predict(np.array(img))\n",
    "Image.fromarray(sr_img)"
   ]
  },
  {
   "cell_type": "markdown",
   "metadata": {
    "colab_type": "text",
    "id": "KMQvbGMFvBCk"
   },
   "source": [
    "### Usecase: upscaling noisy images"
   ]
  },
  {
   "cell_type": "markdown",
   "metadata": {
    "colab_type": "text",
    "id": "YLkboI7Cyfdv"
   },
   "source": [
    "Now, for science, let's make it harder for the networks.\n",
    "\n",
    "We compress the image into the jpeg format to introduce compression artefact and lose some information.\n",
    "\n",
    "We will compare:\n",
    "- the baseline bicubic scaling\n",
    "- the basic model - Add Hyperlink\n",
    "- a model trained to remove noise using perceptual loss with deep features and GANs training"
   ]
  },
  {
   "cell_type": "markdown",
   "metadata": {
    "colab_type": "text",
    "id": "dKdDnmy1IANS"
   },
   "source": [
    "So let's first  compress the image"
   ]
  },
  {
   "cell_type": "code",
   "execution_count": null,
   "metadata": {
    "colab": {
     "base_uri": "https://localhost:8080/",
     "height": 273
    },
    "colab_type": "code",
    "id": "AlSZwYyWvXxv",
    "outputId": "9738c801-ce57-4c58-f16f-f641db154439"
   },
   "outputs": [],
   "source": [
    "img.save('data/input/test_images/compressed.jpeg','JPEG', dpi=[300, 300], quality=50)\n",
    "compressed_img = Image.open('data/input/test_images/compressed.jpeg')\n",
    "\n",
    "compressed_img"
   ]
  },
  {
   "cell_type": "markdown",
   "metadata": {
    "colab_type": "text",
    "id": "uVACwCzNH08E"
   },
   "source": [
    "(open the image in a new tab and zoom in to inspect it)"
   ]
  },
  {
   "cell_type": "markdown",
   "metadata": {
    "colab_type": "text",
    "id": "kdT6PvrO42Dx"
   },
   "source": [
    "#### Baseline\n",
    "Bicubic scaling"
   ]
  },
  {
   "cell_type": "code",
   "execution_count": null,
   "metadata": {
    "colab": {
     "base_uri": "https://localhost:8080/",
     "height": 529
    },
    "colab_type": "code",
    "id": "LECussdS47kb",
    "outputId": "754096ca-93c4-4968-c6ca-d4173f5ecddc"
   },
   "outputs": [],
   "source": [
    "compressed_img.resize(size=(compressed_img.size[0]*2, compressed_img.size[1]*2), resample=Image.BICUBIC)"
   ]
  },
  {
   "cell_type": "markdown",
   "metadata": {
    "colab_type": "text",
    "id": "rRxn5fFIsnw-"
   },
   "source": [
    "#### Large RDN model (PSNR trained)"
   ]
  },
  {
   "cell_type": "code",
   "execution_count": null,
   "metadata": {
    "colab": {
     "base_uri": "https://localhost:8080/",
     "height": 529
    },
    "colab_type": "code",
    "id": "IlsqYYJDVND-",
    "outputId": "2440520f-59d8-4bbc-d924-fe7e0b04969c"
   },
   "outputs": [],
   "source": [
    "rdn = RDN(arch_params={'C': 6, 'D':20, 'G':64, 'G0':64, 'x':2})\n",
    "rdn.model.load_weights('weights/rdn-C6-D20-G64-G064-x2_PSNR_epoch086.hdf5')\n",
    "sr_img = rdn.predict(np.array(compressed_img))\n",
    "Image.fromarray(sr_img)"
   ]
  },
  {
   "cell_type": "markdown",
   "metadata": {
    "colab_type": "text",
    "id": "hARwLDEpsuLy"
   },
   "source": [
    "#### Small RDN model  (PSNR trained)"
   ]
  },
  {
   "cell_type": "code",
   "execution_count": null,
   "metadata": {
    "colab": {
     "base_uri": "https://localhost:8080/",
     "height": 529
    },
    "colab_type": "code",
    "id": "K4mHLVfP1qWC",
    "outputId": "b166f148-bb36-4301-a3e3-b647d4b3a9d0"
   },
   "outputs": [],
   "source": [
    "rdn = RDN(arch_params={'C': 3, 'D':10, 'G':64, 'G0':64, 'x':2})\n",
    "rdn.model.load_weights('weights/rdn-C3-D10-G64-G064-x2_PSNR_epoch134.hdf5')\n",
    "sr_img = rdn.predict(np.array(compressed_img))\n",
    "Image.fromarray(sr_img)"
   ]
  },
  {
   "cell_type": "markdown",
   "metadata": {
    "colab_type": "text",
    "id": "mW4t5uo5s3Wj"
   },
   "source": [
    "#### Large RDN noise cancelling, detail enhancing model"
   ]
  },
  {
   "cell_type": "code",
   "execution_count": null,
   "metadata": {
    "colab": {
     "base_uri": "https://localhost:8080/",
     "height": 529
    },
    "colab_type": "code",
    "id": "3qlX0cBCtESJ",
    "outputId": "9e7f728d-df87-4178-b448-6a0d512827d5"
   },
   "outputs": [],
   "source": [
    "rdn = RDN(arch_params={'C': 6, 'D':20, 'G':64, 'G0':64, 'x':2})\n",
    "rdn.model.load_weights('weights/rdn-C6-D20-G64-G064-x2_ArtefactCancelling_epoch219.hdf5')\n",
    "sr_img = rdn.predict(np.array(compressed_img))\n",
    "Image.fromarray(sr_img)"
   ]
  },
  {
   "cell_type": "markdown",
   "metadata": {
    "colab_type": "text",
    "id": "qjBQX1s_w356"
   },
   "source": [
    "### Predictor Class\n",
    "You can also use the predictor class to run the model on entire folders:"
   ]
  },
  {
   "cell_type": "code",
   "execution_count": null,
   "metadata": {
    "colab": {
     "base_uri": "https://localhost:8080/",
     "height": 255
    },
    "colab_type": "code",
    "id": "5e702gZiw-Df",
    "outputId": "067cca2d-8adc-4cfc-8ed2-c1c4bf802689"
   },
   "outputs": [],
   "source": [
    "from ISR.predict import Predictor\n",
    "!mkdir -p data/output\n",
    "predictor = Predictor(input_dir='data/input/test_images/')\n",
    "predictor.get_predictions(model=rdn, weights_path='weights/rdn-C6-D20-G64-G064-x2_ArtefactCancelling_epoch219.hdf5')"
   ]
  }
 ],
 "metadata": {
  "accelerator": "GPU",
  "colab": {
   "name": "ISR Prediction Tutorial.ipynb",
   "provenance": [],
   "version": "0.3.2"
  },
  "kernelspec": {
   "display_name": "Python 3",
   "language": "python",
   "name": "python3"
  },
  "language_info": {
   "codemirror_mode": {
    "name": "ipython",
    "version": 3
   },
   "file_extension": ".py",
   "mimetype": "text/x-python",
   "name": "python",
   "nbconvert_exporter": "python",
   "pygments_lexer": "ipython3",
   "version": "3.7.4"
  }
 },
 "nbformat": 4,
 "nbformat_minor": 1
}
