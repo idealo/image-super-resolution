{
 "cells": [
  {
   "cell_type": "markdown",
   "metadata": {},
   "source": [
    "[![Google Colab](https://colab.research.google.com/assets/colab-badge.svg)](https://colab.research.google.com/github/idealo/image-super-resolution/blob/master/notebooks/ISR_Assistant.ipynb)"
   ]
  },
  {
   "cell_type": "markdown",
   "metadata": {
    "colab_type": "text",
    "id": "3-5SSq3HHq1X"
   },
   "source": [
    "# ISR Assistant"
   ]
  },
  {
   "cell_type": "markdown",
   "metadata": {
    "colab_type": "text",
    "id": "-gBSn6zkIShy"
   },
   "source": [
    "## Setup"
   ]
  },
  {
   "cell_type": "markdown",
   "metadata": {
    "colab_type": "text",
    "id": "jZa8x-o6IL9C"
   },
   "source": [
    "Install the package, download the sample weights, a sample image and a sample configuration file"
   ]
  },
  {
   "cell_type": "code",
   "execution_count": 1,
   "metadata": {
    "colab": {},
    "colab_type": "code",
    "id": "bO7XnZFW72B9"
   },
   "outputs": [
    {
     "name": "stdout",
     "output_type": "stream",
     "text": [
      "Collecting ISR\n",
      "  Using cached https://files.pythonhosted.org/packages/d6/c3/7e6d659870e9a2a5f5a529ecc3f71f6387ee41aa5c486fc9f023f6cdea1f/ISR-2.1-py3-none-any.whl\n",
      "Requirement already satisfied: tqdm in d:\\venv-win-3.7.4\\lib\\site-packages (from ISR) (4.36.1)\n",
      "Collecting numpy==1.16.2 (from ISR)\n",
      "  Using cached https://files.pythonhosted.org/packages/3a/3c/515afabfe4f29bfc0a67037efaf518c33d0076b32d22ba865241cee295c4/numpy-1.16.2-cp37-cp37m-win_amd64.whl\n",
      "Requirement already satisfied: Keras==2.2.4 in d:\\venv-win-3.7.4\\lib\\site-packages (from ISR) (2.2.4)\n",
      "Requirement already satisfied: tensorflow==1.13.1 in d:\\venv-win-3.7.4\\lib\\site-packages (from ISR) (1.13.1)\n",
      "Requirement already satisfied: imageio in d:\\venv-win-3.7.4\\lib\\site-packages (from ISR) (2.6.1)\n",
      "Requirement already satisfied: six>=1.9.0 in d:\\venv-win-3.7.4\\lib\\site-packages (from Keras==2.2.4->ISR) (1.12.0)\n",
      "Requirement already satisfied: pyyaml in d:\\venv-win-3.7.4\\lib\\site-packages (from Keras==2.2.4->ISR) (5.1.2)\n",
      "Requirement already satisfied: h5py in d:\\venv-win-3.7.4\\lib\\site-packages (from Keras==2.2.4->ISR) (2.10.0)\n",
      "Requirement already satisfied: keras-preprocessing>=1.0.5 in d:\\venv-win-3.7.4\\lib\\site-packages (from Keras==2.2.4->ISR) (1.1.0)\n",
      "Requirement already satisfied: keras-applications>=1.0.6 in d:\\venv-win-3.7.4\\lib\\site-packages (from Keras==2.2.4->ISR) (1.0.8)\n",
      "Requirement already satisfied: scipy>=0.14 in d:\\venv-win-3.7.4\\lib\\site-packages (from Keras==2.2.4->ISR) (1.3.1)\n",
      "Requirement already satisfied: tensorboard<1.14.0,>=1.13.0 in d:\\venv-win-3.7.4\\lib\\site-packages (from tensorflow==1.13.1->ISR) (1.13.1)\n",
      "Requirement already satisfied: gast>=0.2.0 in d:\\venv-win-3.7.4\\lib\\site-packages (from tensorflow==1.13.1->ISR) (0.3.2)\n",
      "Requirement already satisfied: wheel>=0.26 in d:\\venv-win-3.7.4\\lib\\site-packages (from tensorflow==1.13.1->ISR) (0.33.6)\n",
      "Requirement already satisfied: absl-py>=0.1.6 in d:\\venv-win-3.7.4\\lib\\site-packages (from tensorflow==1.13.1->ISR) (0.8.0)\n",
      "Requirement already satisfied: protobuf>=3.6.1 in d:\\venv-win-3.7.4\\lib\\site-packages (from tensorflow==1.13.1->ISR) (3.10.0)\n",
      "Requirement already satisfied: termcolor>=1.1.0 in d:\\venv-win-3.7.4\\lib\\site-packages (from tensorflow==1.13.1->ISR) (1.1.0)\n",
      "Requirement already satisfied: grpcio>=1.8.6 in d:\\venv-win-3.7.4\\lib\\site-packages (from tensorflow==1.13.1->ISR) (1.24.1)\n",
      "Requirement already satisfied: astor>=0.6.0 in d:\\venv-win-3.7.4\\lib\\site-packages (from tensorflow==1.13.1->ISR) (0.8.0)\n",
      "Requirement already satisfied: tensorflow-estimator<1.14.0rc0,>=1.13.0 in d:\\venv-win-3.7.4\\lib\\site-packages (from tensorflow==1.13.1->ISR) (1.13.0)\n",
      "Requirement already satisfied: pillow in d:\\venv-win-3.7.4\\lib\\site-packages (from imageio->ISR) (6.2.0)\n",
      "Requirement already satisfied: markdown>=2.6.8 in d:\\venv-win-3.7.4\\lib\\site-packages (from tensorboard<1.14.0,>=1.13.0->tensorflow==1.13.1->ISR) (3.1.1)\n",
      "Requirement already satisfied: werkzeug>=0.11.15 in d:\\venv-win-3.7.4\\lib\\site-packages (from tensorboard<1.14.0,>=1.13.0->tensorflow==1.13.1->ISR) (0.16.0)\n",
      "Requirement already satisfied: setuptools in d:\\venv-win-3.7.4\\lib\\site-packages (from protobuf>=3.6.1->tensorflow==1.13.1->ISR) (41.4.0)\n",
      "Requirement already satisfied: mock>=2.0.0 in d:\\venv-win-3.7.4\\lib\\site-packages (from tensorflow-estimator<1.14.0rc0,>=1.13.0->tensorflow==1.13.1->ISR) (3.0.5)\n",
      "Installing collected packages: numpy, ISR\n",
      "  Found existing installation: numpy 1.17.2\n",
      "    Uninstalling numpy-1.17.2:\n",
      "      Successfully uninstalled numpy-1.17.2\n",
      "Successfully installed ISR-2.1 numpy-1.16.2\n"
     ]
    },
    {
     "name": "stderr",
     "output_type": "stream",
     "text": [
      "WARNING: You are using pip version 19.2.3, however version 19.3.1 is available.\n",
      "You should consider upgrading via the 'python -m pip install --upgrade pip' command.\n"
     ]
    }
   ],
   "source": [
    "!pip install ISR"
   ]
  },
  {
   "cell_type": "code",
   "execution_count": 2,
   "metadata": {
    "colab": {},
    "colab_type": "code",
    "id": "90lQCy9W8Jc9"
   },
   "outputs": [
    {
     "name": "stderr",
     "output_type": "stream",
     "text": [
      "'wget' is not recognized as an internal or external command,\n",
      "operable program or batch file.\n",
      "'wget' is not recognized as an internal or external command,\n",
      "operable program or batch file.\n",
      "'wget' is not recognized as an internal or external command,\n",
      "operable program or batch file.\n",
      "'mv' is not recognized as an internal or external command,\n",
      "operable program or batch file.\n",
      "'wget' is not recognized as an internal or external command,\n",
      "operable program or batch file.\n",
      "The syntax of the command is incorrect.\n",
      "'mv' is not recognized as an internal or external command,\n",
      "operable program or batch file.\n"
     ]
    }
   ],
   "source": [
    "!wget https://github.com/idealo/image-super-resolution/raw/master/weights/sample_weights/rdn-C6-D20-G64-G064-x2/ArtefactCancelling/rdn-C6-D20-G64-G064-x2_ArtefactCancelling_epoch219.hdf5\n",
    "!wget https://github.com/idealo/image-super-resolution/raw/master/weights/sample_weights/rdn-C6-D20-G64-G064-x2/PSNR-driven/rdn-C6-D20-G64-G064-x2_PSNR_epoch086.hdf5\n",
    "!wget https://github.com/idealo/image-super-resolution/raw/master/weights/sample_weights/rdn-C3-D10-G64-G064-x2/PSNR-driven/rdn-C3-D10-G64-G064-x2_PSNR_epoch134.hdf5\n",
    "!mkdir weights\n",
    "!mv *.hdf5 weights\n",
    "!wget http://images.math.cnrs.fr/IMG/png/section8-image.png\n",
    "!mkdir -p data/input/sample\n",
    "!mv *.png data/input/sample"
   ]
  },
  {
   "cell_type": "code",
   "execution_count": 7,
   "metadata": {
    "colab": {},
    "colab_type": "code",
    "id": "ZwgxdKUU8zdU"
   },
   "outputs": [
    {
     "name": "stderr",
     "output_type": "stream",
     "text": [
      "'wget' is not recognized as an internal or external command,\n",
      "operable program or batch file.\n"
     ]
    }
   ],
   "source": [
    "!wget https://github.com/idealo/image-super-resolution/raw/master/config.yml"
   ]
  },
  {
   "cell_type": "markdown",
   "metadata": {
    "colab_type": "text",
    "id": "ARE4tIJjIBO6"
   },
   "source": [
    "## Use the assistant for prediction"
   ]
  },
  {
   "cell_type": "markdown",
   "metadata": {
    "colab_type": "text",
    "id": "xi0cr_ssIKQx"
   },
   "source": [
    "The assistant will guide you through either training or prediction, letting you iteratively customize almost every aspect of the configuration file. In this example we will perform prediction."
   ]
  },
  {
   "cell_type": "code",
   "execution_count": 26,
   "metadata": {
    "colab": {
     "base_uri": "https://localhost:8080/",
     "height": 581
    },
    "colab_type": "code",
    "id": "o_YR1DvV79sF",
    "outputId": "8c545e59-55cb-441b-8f02-e7a20564cc46"
   },
   "outputs": [
    {
     "name": "stdout",
     "output_type": "stream",
     "text": [
      "D:\\Git Apps\\image-super-resolution\\notebooks\n",
      "D:\\Git Apps\\image-super-resolution\\weights\\sample_weights\\rrdn-C4-D3-G32-G032-T10-x4-GANS\\config.yml\n"
     ]
    },
    {
     "ename": "FileNotFoundError",
     "evalue": "[Errno 2] No such file or directory: 'D:\\\\Git Apps\\\\image-super-resolution\\\\weights\\\\sample_weights\\\\rrdn-C4-D3-G32-G032-T10-x4-GANS\\\\config.yml'",
     "output_type": "error",
     "traceback": [
      "\u001b[1;31m---------------------------------------------------------------------------\u001b[0m",
      "\u001b[1;31mFileNotFoundError\u001b[0m                         Traceback (most recent call last)",
      "\u001b[1;32m<ipython-input-26-0e68292758d3>\u001b[0m in \u001b[0;36m<module>\u001b[1;34m\u001b[0m\n\u001b[0;32m      6\u001b[0m \u001b[0mprint\u001b[0m\u001b[1;33m(\u001b[0m\u001b[0mconfig_dir\u001b[0m\u001b[1;33m)\u001b[0m\u001b[1;33m\u001b[0m\u001b[1;33m\u001b[0m\u001b[0m\n\u001b[0;32m      7\u001b[0m \u001b[1;31m#assistant.run(config_file='config.yml')\u001b[0m\u001b[1;33m\u001b[0m\u001b[1;33m\u001b[0m\u001b[1;33m\u001b[0m\u001b[0m\n\u001b[1;32m----> 8\u001b[1;33m \u001b[0massistant\u001b[0m\u001b[1;33m.\u001b[0m\u001b[0mrun\u001b[0m\u001b[1;33m(\u001b[0m\u001b[0mconfig_file\u001b[0m\u001b[1;33m=\u001b[0m\u001b[0mconfig_dir\u001b[0m\u001b[1;33m)\u001b[0m\u001b[1;33m\u001b[0m\u001b[1;33m\u001b[0m\u001b[0m\n\u001b[0m",
      "\u001b[1;32md:\\venv-win-3.7.4\\lib\\site-packages\\ISR\\assistant.py\u001b[0m in \u001b[0;36mrun\u001b[1;34m(config_file, default, training, prediction)\u001b[0m\n\u001b[0;32m     13\u001b[0m     \u001b[0mos\u001b[0m\u001b[1;33m.\u001b[0m\u001b[0menviron\u001b[0m\u001b[1;33m[\u001b[0m\u001b[1;34m'TF_CPP_MIN_LOG_LEVEL'\u001b[0m\u001b[1;33m]\u001b[0m \u001b[1;33m=\u001b[0m \u001b[1;34m'3'\u001b[0m\u001b[1;33m\u001b[0m\u001b[1;33m\u001b[0m\u001b[0m\n\u001b[0;32m     14\u001b[0m     \u001b[0mlogger\u001b[0m \u001b[1;33m=\u001b[0m \u001b[0mget_logger\u001b[0m\u001b[1;33m(\u001b[0m\u001b[0m__name__\u001b[0m\u001b[1;33m)\u001b[0m\u001b[1;33m\u001b[0m\u001b[1;33m\u001b[0m\u001b[0m\n\u001b[1;32m---> 15\u001b[1;33m     \u001b[0msession_type\u001b[0m\u001b[1;33m,\u001b[0m \u001b[0mgenerator\u001b[0m\u001b[1;33m,\u001b[0m \u001b[0mconf\u001b[0m\u001b[1;33m,\u001b[0m \u001b[0mdataset\u001b[0m \u001b[1;33m=\u001b[0m \u001b[0msetup\u001b[0m\u001b[1;33m(\u001b[0m\u001b[0mconfig_file\u001b[0m\u001b[1;33m,\u001b[0m \u001b[0mdefault\u001b[0m\u001b[1;33m,\u001b[0m \u001b[0mtraining\u001b[0m\u001b[1;33m,\u001b[0m \u001b[0mprediction\u001b[0m\u001b[1;33m)\u001b[0m\u001b[1;33m\u001b[0m\u001b[1;33m\u001b[0m\u001b[0m\n\u001b[0m\u001b[0;32m     16\u001b[0m \u001b[1;33m\u001b[0m\u001b[0m\n\u001b[0;32m     17\u001b[0m     \u001b[0mlr_patch_size\u001b[0m \u001b[1;33m=\u001b[0m \u001b[0mconf\u001b[0m\u001b[1;33m[\u001b[0m\u001b[1;34m'session'\u001b[0m\u001b[1;33m]\u001b[0m\u001b[1;33m[\u001b[0m\u001b[0msession_type\u001b[0m\u001b[1;33m]\u001b[0m\u001b[1;33m[\u001b[0m\u001b[1;34m'patch_size'\u001b[0m\u001b[1;33m]\u001b[0m\u001b[1;33m\u001b[0m\u001b[1;33m\u001b[0m\u001b[0m\n",
      "\u001b[1;32md:\\venv-win-3.7.4\\lib\\site-packages\\ISR\\utils\\utils.py\u001b[0m in \u001b[0;36msetup\u001b[1;34m(config_file, default, training, prediction)\u001b[0m\n\u001b[0;32m    166\u001b[0m     \"\"\"\n\u001b[0;32m    167\u001b[0m \u001b[1;33m\u001b[0m\u001b[0m\n\u001b[1;32m--> 168\u001b[1;33m     \u001b[0mconf\u001b[0m \u001b[1;33m=\u001b[0m \u001b[0myaml\u001b[0m\u001b[1;33m.\u001b[0m\u001b[0mload\u001b[0m\u001b[1;33m(\u001b[0m\u001b[0mopen\u001b[0m\u001b[1;33m(\u001b[0m\u001b[0mconfig_file\u001b[0m\u001b[1;33m,\u001b[0m \u001b[1;34m'r'\u001b[0m\u001b[1;33m)\u001b[0m\u001b[1;33m,\u001b[0m \u001b[0mLoader\u001b[0m\u001b[1;33m=\u001b[0m\u001b[0myaml\u001b[0m\u001b[1;33m.\u001b[0m\u001b[0mFullLoader\u001b[0m\u001b[1;33m)\u001b[0m\u001b[1;33m\u001b[0m\u001b[1;33m\u001b[0m\u001b[0m\n\u001b[0m\u001b[0;32m    169\u001b[0m \u001b[1;33m\u001b[0m\u001b[0m\n\u001b[0;32m    170\u001b[0m     \u001b[1;32mif\u001b[0m \u001b[0mtraining\u001b[0m\u001b[1;33m:\u001b[0m\u001b[1;33m\u001b[0m\u001b[1;33m\u001b[0m\u001b[0m\n",
      "\u001b[1;31mFileNotFoundError\u001b[0m: [Errno 2] No such file or directory: 'D:\\\\Git Apps\\\\image-super-resolution\\\\weights\\\\sample_weights\\\\rrdn-C4-D3-G32-G032-T10-x4-GANS\\\\config.yml'"
     ]
    }
   ],
   "source": [
    "from ISR import assistant\n",
    "import os\n",
    "print(os.getcwd())\n",
    "\n",
    "config_dir = os.path.join('D:\\\\','Git Apps','image-super-resolution','weights','sample_weights','rrdn-C4-D3-G32-G032-T10-x4-GANS','config.yml')\n",
    "print(config_dir)\n",
    "#assistant.run(config_file='config.yml')\n",
    "assistant.run(config_file=config_dir)"
   ]
  },
  {
   "cell_type": "code",
   "execution_count": null,
   "metadata": {},
   "outputs": [],
   "source": []
  }
 ],
 "metadata": {
  "accelerator": "GPU",
  "colab": {
   "name": "ISR assistant.ipynb",
   "provenance": [],
   "version": "0.3.2"
  },
  "kernelspec": {
   "display_name": "Python 3",
   "language": "python",
   "name": "python3"
  },
  "language_info": {
   "codemirror_mode": {
    "name": "ipython",
    "version": 3
   },
   "file_extension": ".py",
   "mimetype": "text/x-python",
   "name": "python",
   "nbconvert_exporter": "python",
   "pygments_lexer": "ipython3",
   "version": "3.7.4"
  }
 },
 "nbformat": 4,
 "nbformat_minor": 1
}
